{
 "cells": [
  {
   "cell_type": "markdown",
   "metadata": {},
   "source": [
    "## Statistical analysis of the RAPM metric calculated from the 2010-2011 season to the 2016-2015-2016 season. This statistic is used to represent how much a player contributes to outscoring their opponent per 36 minuutes of play time.\n",
    "\n",
    "### Author: Evan Tsiklidis"
   ]
  },
  {
   "cell_type": "code",
   "execution_count": 1,
   "metadata": {},
   "outputs": [],
   "source": [
    "#import libraries\n",
    "import pandas as pd\n",
    "import numpy as np\n",
    "import os\n",
    "import matplotlib.pyplot as plt\n",
    "from scipy import stats"
   ]
  },
  {
   "cell_type": "code",
   "execution_count": 2,
   "metadata": {},
   "outputs": [],
   "source": [
    "def plot_scatterplots(highlight,non_highlight,x,y): \n",
    "    fs = 10\n",
    "    plt.figure(figsize=(fs, fs), dpi=80)\n",
    "    plt.scatter(non_highlight[x], non_highlight[y], c='red',label='League',s=fs*1.5)\n",
    "    plt.scatter(highlight[x], highlight[y],  c='blue',s=fs*1.5)\n",
    "    for i in range(highlight.shape[0]):\n",
    "        plt.annotate(highlight['Name'].tolist()[i],(highlight[x].tolist()[i], highlight[y].tolist()[i]),fontsize=fs*1.5)\n",
    "    plt.xlabel(x.replace('_', ' '),fontsize=fs*1.5)\n",
    "    plt.ylabel(y.replace('_', ' '),fontsize=fs*1.5)\n",
    "    plt.show()  "
   ]
  },
  {
   "cell_type": "code",
   "execution_count": 3,
   "metadata": {},
   "outputs": [],
   "source": [
    "def construct_non_highlighted(df,highlight):\n",
    "    players_highlighted = highlight.Name.tolist()\n",
    "    non_highlight = df[~df['Name'].isin(players_highlighted)]\n",
    "    return non_highlight"
   ]
  },
  {
   "cell_type": "code",
   "execution_count": 4,
   "metadata": {},
   "outputs": [],
   "source": [
    "#Normalize on a per pandas coluumn basis.  \n",
    "def scale_col(df,col): \n",
    "    \"\"\"\n",
    "    A function that takes a pandas dataframe and column as input and returns a scaled version of the column. \n",
    "    The column is rescaled to values between 1 and 2. \n",
    "    \"\"\"\n",
    "    df['Scaled_' + col] = ((df[col]-df[col].min())/(df[col].max()-df[col].min()) +1) \n",
    "    return df"
   ]
  },
  {
   "cell_type": "code",
   "execution_count": 5,
   "metadata": {},
   "outputs": [
    {
     "data": {
      "text/html": [
       "<div>\n",
       "<style scoped>\n",
       "    .dataframe tbody tr th:only-of-type {\n",
       "        vertical-align: middle;\n",
       "    }\n",
       "\n",
       "    .dataframe tbody tr th {\n",
       "        vertical-align: top;\n",
       "    }\n",
       "\n",
       "    .dataframe thead th {\n",
       "        text-align: right;\n",
       "    }\n",
       "</style>\n",
       "<table border=\"1\" class=\"dataframe\">\n",
       "  <thead>\n",
       "    <tr style=\"text-align: right;\">\n",
       "      <th></th>\n",
       "      <th>Name</th>\n",
       "      <th>RAPM_Coefficient</th>\n",
       "      <th>Salary</th>\n",
       "    </tr>\n",
       "  </thead>\n",
       "  <tbody>\n",
       "    <tr>\n",
       "      <th>0</th>\n",
       "      <td>LeBron James</td>\n",
       "      <td>1.836717</td>\n",
       "      <td>113794900.0</td>\n",
       "    </tr>\n",
       "    <tr>\n",
       "      <th>1</th>\n",
       "      <td>Manu Ginobili</td>\n",
       "      <td>1.752981</td>\n",
       "      <td>57383568.0</td>\n",
       "    </tr>\n",
       "    <tr>\n",
       "      <th>2</th>\n",
       "      <td>Kyle Korver</td>\n",
       "      <td>1.735350</td>\n",
       "      <td>33760563.0</td>\n",
       "    </tr>\n",
       "    <tr>\n",
       "      <th>3</th>\n",
       "      <td>Kevin Durant</td>\n",
       "      <td>1.592873</td>\n",
       "      <td>96379794.0</td>\n",
       "    </tr>\n",
       "    <tr>\n",
       "      <th>4</th>\n",
       "      <td>Stephen Curry</td>\n",
       "      <td>1.435763</td>\n",
       "      <td>41877343.0</td>\n",
       "    </tr>\n",
       "  </tbody>\n",
       "</table>\n",
       "</div>"
      ],
      "text/plain": [
       "            Name  RAPM_Coefficient       Salary\n",
       "0   LeBron James          1.836717  113794900.0\n",
       "1  Manu Ginobili          1.752981   57383568.0\n",
       "2    Kyle Korver          1.735350   33760563.0\n",
       "3   Kevin Durant          1.592873   96379794.0\n",
       "4  Stephen Curry          1.435763   41877343.0"
      ]
     },
     "execution_count": 5,
     "metadata": {},
     "output_type": "execute_result"
    }
   ],
   "source": [
    "#Load in the dataframe\n",
    "df = pd.read_csv('RAPM_SAL_INFO.csv').drop(['Unnamed: 0'],axis=1)\n",
    "df.columns = ['Name','RAPM_Coefficient','Salary']\n",
    "df.head()"
   ]
  },
  {
   "cell_type": "markdown",
   "metadata": {},
   "source": [
    "## We are mainly interested in finding undervalued players, I propose dividing each player's RAPM coefficient by his salary. In theory, players with larger coefficients contribute to winning NBA-level games so players with large coefficients and relatively low salaries are likely undervalued players. These players should be the target of competitive teams hoping to complete a championship-calibur roster, in particular small-market teams. \n",
    "\n",
    "## Prior to dividing the coefficient by the salary, I scaled both variables to real numbers between 1 and 2. Scaling removes the dimensions of each variable and allows us to properly relate the two columns to one another while maintaining the relative spread within each variable. In most ML scaling cases, the columns are rescaled between 0 and 1. However, to avoid division by 0 and asymptoticly large values for players with exceptionally low salaries, we shifted to values between 1 and 2.  "
   ]
  },
  {
   "cell_type": "code",
   "execution_count": 6,
   "metadata": {},
   "outputs": [
    {
     "data": {
      "text/html": [
       "<div>\n",
       "<style scoped>\n",
       "    .dataframe tbody tr th:only-of-type {\n",
       "        vertical-align: middle;\n",
       "    }\n",
       "\n",
       "    .dataframe tbody tr th {\n",
       "        vertical-align: top;\n",
       "    }\n",
       "\n",
       "    .dataframe thead th {\n",
       "        text-align: right;\n",
       "    }\n",
       "</style>\n",
       "<table border=\"1\" class=\"dataframe\">\n",
       "  <thead>\n",
       "    <tr style=\"text-align: right;\">\n",
       "      <th></th>\n",
       "      <th>Name</th>\n",
       "      <th>RAPM_Coefficient</th>\n",
       "      <th>Salary</th>\n",
       "      <th>Scaled_RAPM_Coefficient</th>\n",
       "      <th>Scaled_Salary</th>\n",
       "      <th>Value</th>\n",
       "    </tr>\n",
       "  </thead>\n",
       "  <tbody>\n",
       "    <tr>\n",
       "      <th>0</th>\n",
       "      <td>Jae Crowder</td>\n",
       "      <td>1.416322</td>\n",
       "      <td>13651084.5</td>\n",
       "      <td>1.871586</td>\n",
       "      <td>1.084917</td>\n",
       "      <td>1.725096</td>\n",
       "    </tr>\n",
       "    <tr>\n",
       "      <th>1</th>\n",
       "      <td>Kyle Korver</td>\n",
       "      <td>1.735350</td>\n",
       "      <td>33760563.0</td>\n",
       "      <td>1.969036</td>\n",
       "      <td>1.211124</td>\n",
       "      <td>1.625793</td>\n",
       "    </tr>\n",
       "    <tr>\n",
       "      <th>2</th>\n",
       "      <td>Kelly Olynyk</td>\n",
       "      <td>0.999571</td>\n",
       "      <td>12454560.0</td>\n",
       "      <td>1.744285</td>\n",
       "      <td>1.077408</td>\n",
       "      <td>1.618965</td>\n",
       "    </tr>\n",
       "    <tr>\n",
       "      <th>3</th>\n",
       "      <td>Matthew Dellavedova</td>\n",
       "      <td>0.733922</td>\n",
       "      <td>4907876.0</td>\n",
       "      <td>1.663140</td>\n",
       "      <td>1.030045</td>\n",
       "      <td>1.614629</td>\n",
       "    </tr>\n",
       "    <tr>\n",
       "      <th>4</th>\n",
       "      <td>Nick Collison</td>\n",
       "      <td>1.291101</td>\n",
       "      <td>27706336.0</td>\n",
       "      <td>1.833336</td>\n",
       "      <td>1.173127</td>\n",
       "      <td>1.562777</td>\n",
       "    </tr>\n",
       "    <tr>\n",
       "      <th>5</th>\n",
       "      <td>Isaiah Thomas</td>\n",
       "      <td>0.944906</td>\n",
       "      <td>19872189.6</td>\n",
       "      <td>1.727587</td>\n",
       "      <td>1.123960</td>\n",
       "      <td>1.537053</td>\n",
       "    </tr>\n",
       "    <tr>\n",
       "      <th>6</th>\n",
       "      <td>Danny Green</td>\n",
       "      <td>1.012751</td>\n",
       "      <td>22271911.0</td>\n",
       "      <td>1.748311</td>\n",
       "      <td>1.139021</td>\n",
       "      <td>1.534924</td>\n",
       "    </tr>\n",
       "    <tr>\n",
       "      <th>7</th>\n",
       "      <td>C.J. Watson</td>\n",
       "      <td>0.846772</td>\n",
       "      <td>17085680.0</td>\n",
       "      <td>1.697611</td>\n",
       "      <td>1.106472</td>\n",
       "      <td>1.534255</td>\n",
       "    </tr>\n",
       "    <tr>\n",
       "      <th>8</th>\n",
       "      <td>Derek Fisher</td>\n",
       "      <td>0.690171</td>\n",
       "      <td>12581776.0</td>\n",
       "      <td>1.649776</td>\n",
       "      <td>1.078206</td>\n",
       "      <td>1.530112</td>\n",
       "    </tr>\n",
       "    <tr>\n",
       "      <th>9</th>\n",
       "      <td>Roger Mason Jr.</td>\n",
       "      <td>0.487860</td>\n",
       "      <td>6217556.0</td>\n",
       "      <td>1.587977</td>\n",
       "      <td>1.038264</td>\n",
       "      <td>1.529454</td>\n",
       "    </tr>\n",
       "    <tr>\n",
       "      <th>10</th>\n",
       "      <td>Nick Calathes</td>\n",
       "      <td>0.409538</td>\n",
       "      <td>3919986.0</td>\n",
       "      <td>1.564053</td>\n",
       "      <td>1.023845</td>\n",
       "      <td>1.527627</td>\n",
       "    </tr>\n",
       "    <tr>\n",
       "      <th>11</th>\n",
       "      <td>Ivan Johnson</td>\n",
       "      <td>0.429371</td>\n",
       "      <td>4702084.0</td>\n",
       "      <td>1.570111</td>\n",
       "      <td>1.028753</td>\n",
       "      <td>1.526227</td>\n",
       "    </tr>\n",
       "    <tr>\n",
       "      <th>12</th>\n",
       "      <td>Matt Bonner</td>\n",
       "      <td>0.755713</td>\n",
       "      <td>16117519.0</td>\n",
       "      <td>1.669796</td>\n",
       "      <td>1.100396</td>\n",
       "      <td>1.517450</td>\n",
       "    </tr>\n",
       "    <tr>\n",
       "      <th>13</th>\n",
       "      <td>Kawhi Leonard</td>\n",
       "      <td>1.171890</td>\n",
       "      <td>29770894.8</td>\n",
       "      <td>1.796922</td>\n",
       "      <td>1.186084</td>\n",
       "      <td>1.515003</td>\n",
       "    </tr>\n",
       "    <tr>\n",
       "      <th>14</th>\n",
       "      <td>Ray McCallum</td>\n",
       "      <td>0.335984</td>\n",
       "      <td>4023294.0</td>\n",
       "      <td>1.541586</td>\n",
       "      <td>1.024493</td>\n",
       "      <td>1.504730</td>\n",
       "    </tr>\n",
       "    <tr>\n",
       "      <th>15</th>\n",
       "      <td>Draymond Green</td>\n",
       "      <td>0.962632</td>\n",
       "      <td>25352419.5</td>\n",
       "      <td>1.733002</td>\n",
       "      <td>1.158354</td>\n",
       "      <td>1.496089</td>\n",
       "    </tr>\n",
       "    <tr>\n",
       "      <th>16</th>\n",
       "      <td>Tracy McGrady</td>\n",
       "      <td>0.337946</td>\n",
       "      <td>5126334.0</td>\n",
       "      <td>1.542185</td>\n",
       "      <td>1.031416</td>\n",
       "      <td>1.495211</td>\n",
       "    </tr>\n",
       "    <tr>\n",
       "      <th>17</th>\n",
       "      <td>Stephen Curry</td>\n",
       "      <td>1.435763</td>\n",
       "      <td>41877343.0</td>\n",
       "      <td>1.877524</td>\n",
       "      <td>1.262064</td>\n",
       "      <td>1.487662</td>\n",
       "    </tr>\n",
       "    <tr>\n",
       "      <th>18</th>\n",
       "      <td>Cory Jefferson</td>\n",
       "      <td>0.189336</td>\n",
       "      <td>1671135.0</td>\n",
       "      <td>1.496790</td>\n",
       "      <td>1.009731</td>\n",
       "      <td>1.482365</td>\n",
       "    </tr>\n",
       "    <tr>\n",
       "      <th>19</th>\n",
       "      <td>JaMychal Green</td>\n",
       "      <td>0.223434</td>\n",
       "      <td>2938062.0</td>\n",
       "      <td>1.507206</td>\n",
       "      <td>1.017682</td>\n",
       "      <td>1.481018</td>\n",
       "    </tr>\n",
       "  </tbody>\n",
       "</table>\n",
       "</div>"
      ],
      "text/plain": [
       "                   Name  RAPM_Coefficient      Salary  \\\n",
       "0           Jae Crowder          1.416322  13651084.5   \n",
       "1           Kyle Korver          1.735350  33760563.0   \n",
       "2          Kelly Olynyk          0.999571  12454560.0   \n",
       "3   Matthew Dellavedova          0.733922   4907876.0   \n",
       "4         Nick Collison          1.291101  27706336.0   \n",
       "5         Isaiah Thomas          0.944906  19872189.6   \n",
       "6           Danny Green          1.012751  22271911.0   \n",
       "7           C.J. Watson          0.846772  17085680.0   \n",
       "8          Derek Fisher          0.690171  12581776.0   \n",
       "9       Roger Mason Jr.          0.487860   6217556.0   \n",
       "10        Nick Calathes          0.409538   3919986.0   \n",
       "11         Ivan Johnson          0.429371   4702084.0   \n",
       "12          Matt Bonner          0.755713  16117519.0   \n",
       "13        Kawhi Leonard          1.171890  29770894.8   \n",
       "14         Ray McCallum          0.335984   4023294.0   \n",
       "15       Draymond Green          0.962632  25352419.5   \n",
       "16        Tracy McGrady          0.337946   5126334.0   \n",
       "17        Stephen Curry          1.435763  41877343.0   \n",
       "18       Cory Jefferson          0.189336   1671135.0   \n",
       "19       JaMychal Green          0.223434   2938062.0   \n",
       "\n",
       "    Scaled_RAPM_Coefficient  Scaled_Salary     Value  \n",
       "0                  1.871586       1.084917  1.725096  \n",
       "1                  1.969036       1.211124  1.625793  \n",
       "2                  1.744285       1.077408  1.618965  \n",
       "3                  1.663140       1.030045  1.614629  \n",
       "4                  1.833336       1.173127  1.562777  \n",
       "5                  1.727587       1.123960  1.537053  \n",
       "6                  1.748311       1.139021  1.534924  \n",
       "7                  1.697611       1.106472  1.534255  \n",
       "8                  1.649776       1.078206  1.530112  \n",
       "9                  1.587977       1.038264  1.529454  \n",
       "10                 1.564053       1.023845  1.527627  \n",
       "11                 1.570111       1.028753  1.526227  \n",
       "12                 1.669796       1.100396  1.517450  \n",
       "13                 1.796922       1.186084  1.515003  \n",
       "14                 1.541586       1.024493  1.504730  \n",
       "15                 1.733002       1.158354  1.496089  \n",
       "16                 1.542185       1.031416  1.495211  \n",
       "17                 1.877524       1.262064  1.487662  \n",
       "18                 1.496790       1.009731  1.482365  \n",
       "19                 1.507206       1.017682  1.481018  "
      ]
     },
     "execution_count": 6,
     "metadata": {},
     "output_type": "execute_result"
    }
   ],
   "source": [
    "#Let's construct a new column called 'Value' which will simply be the RAPM coefficient divided by the player's salary. \n",
    "df = scale_col(df,'RAPM_Coefficient')\n",
    "df = scale_col(df,'Salary') \n",
    "df['Value'] = df['Scaled_RAPM_Coefficient'] / df['Scaled_Salary']\n",
    "df = df.sort_values(['Value'],ascending=False).reset_index(drop=True)\n",
    "df.head(20)"
   ]
  },
  {
   "cell_type": "code",
   "execution_count": 7,
   "metadata": {},
   "outputs": [
    {
     "data": {
      "image/png": "[encoded data removed]",
      "text/plain": [
       "<Figure size 800x800 with 1 Axes>"
      ]
     },
     "metadata": {
      "needs_background": "light"
     },
     "output_type": "display_data"
    }
   ],
   "source": [
    "highlight = df[(df['Scaled_Salary'] > 1.6) | (df['Scaled_RAPM_Coefficient'] > 1.75)]\n",
    "non_highlight = construct_non_highlighted(df,highlight)\n",
    "plot_scatterplots(highlight,non_highlight,'Scaled_Salary','Scaled_RAPM_Coefficient')"
   ]
  },
  {
   "cell_type": "markdown",
   "metadata": {},
   "source": [
    "## Ideally we would like to target players in the upper-left quadrant of the scatterplot. These players are likely underpaid relative to the their value and can be a useful addition to a championship contender. "
   ]
  },
  {
   "cell_type": "markdown",
   "metadata": {},
   "source": [
    "## Let's start by comparing our new metric with some of the traditional statistics that have been used for the past half-century"
   ]
  },
  {
   "cell_type": "code",
   "execution_count": 8,
   "metadata": {},
   "outputs": [
    {
     "data": {
      "text/html": [
       "<div>\n",
       "<style scoped>\n",
       "    .dataframe tbody tr th:only-of-type {\n",
       "        vertical-align: middle;\n",
       "    }\n",
       "\n",
       "    .dataframe tbody tr th {\n",
       "        vertical-align: top;\n",
       "    }\n",
       "\n",
       "    .dataframe thead th {\n",
       "        text-align: right;\n",
       "    }\n",
       "</style>\n",
       "<table border=\"1\" class=\"dataframe\">\n",
       "  <thead>\n",
       "    <tr style=\"text-align: right;\">\n",
       "      <th></th>\n",
       "      <th>Player</th>\n",
       "      <th>G</th>\n",
       "      <th>FG</th>\n",
       "      <th>FGA</th>\n",
       "      <th>3P</th>\n",
       "      <th>3PA</th>\n",
       "      <th>2P</th>\n",
       "      <th>2PA</th>\n",
       "      <th>FT</th>\n",
       "      <th>FTA</th>\n",
       "      <th>ORB</th>\n",
       "      <th>TRB</th>\n",
       "      <th>AST</th>\n",
       "      <th>STL</th>\n",
       "      <th>BLK</th>\n",
       "      <th>TOV</th>\n",
       "      <th>PF</th>\n",
       "      <th>PTS</th>\n",
       "    </tr>\n",
       "  </thead>\n",
       "  <tbody>\n",
       "    <tr>\n",
       "      <th>0</th>\n",
       "      <td>Jeff Adrien</td>\n",
       "      <td>23.0</td>\n",
       "      <td>23.0</td>\n",
       "      <td>54.0</td>\n",
       "      <td>0.0</td>\n",
       "      <td>0.0</td>\n",
       "      <td>23.0</td>\n",
       "      <td>54.0</td>\n",
       "      <td>11.0</td>\n",
       "      <td>19.0</td>\n",
       "      <td>23.0</td>\n",
       "      <td>58.0</td>\n",
       "      <td>10.0</td>\n",
       "      <td>4.0</td>\n",
       "      <td>5.0</td>\n",
       "      <td>9.0</td>\n",
       "      <td>28.0</td>\n",
       "      <td>57.0</td>\n",
       "    </tr>\n",
       "    <tr>\n",
       "      <th>1</th>\n",
       "      <td>Arron Afflalo</td>\n",
       "      <td>69.0</td>\n",
       "      <td>312.0</td>\n",
       "      <td>627.0</td>\n",
       "      <td>105.0</td>\n",
       "      <td>248.0</td>\n",
       "      <td>207.0</td>\n",
       "      <td>379.0</td>\n",
       "      <td>138.0</td>\n",
       "      <td>163.0</td>\n",
       "      <td>45.0</td>\n",
       "      <td>251.0</td>\n",
       "      <td>168.0</td>\n",
       "      <td>34.0</td>\n",
       "      <td>31.0</td>\n",
       "      <td>71.0</td>\n",
       "      <td>153.0</td>\n",
       "      <td>867.0</td>\n",
       "    </tr>\n",
       "    <tr>\n",
       "      <th>2</th>\n",
       "      <td>Maurice Ager</td>\n",
       "      <td>4.0</td>\n",
       "      <td>6.0</td>\n",
       "      <td>11.0</td>\n",
       "      <td>3.0</td>\n",
       "      <td>4.0</td>\n",
       "      <td>3.0</td>\n",
       "      <td>7.0</td>\n",
       "      <td>0.0</td>\n",
       "      <td>0.0</td>\n",
       "      <td>0.0</td>\n",
       "      <td>2.0</td>\n",
       "      <td>1.0</td>\n",
       "      <td>1.0</td>\n",
       "      <td>0.0</td>\n",
       "      <td>4.0</td>\n",
       "      <td>4.0</td>\n",
       "      <td>15.0</td>\n",
       "    </tr>\n",
       "    <tr>\n",
       "      <th>3</th>\n",
       "      <td>Alexis Ajinça</td>\n",
       "      <td>34.0</td>\n",
       "      <td>59.0</td>\n",
       "      <td>133.0</td>\n",
       "      <td>12.0</td>\n",
       "      <td>34.0</td>\n",
       "      <td>47.0</td>\n",
       "      <td>99.0</td>\n",
       "      <td>13.0</td>\n",
       "      <td>18.0</td>\n",
       "      <td>17.0</td>\n",
       "      <td>78.0</td>\n",
       "      <td>10.0</td>\n",
       "      <td>11.0</td>\n",
       "      <td>19.0</td>\n",
       "      <td>18.0</td>\n",
       "      <td>73.0</td>\n",
       "      <td>143.0</td>\n",
       "    </tr>\n",
       "    <tr>\n",
       "      <th>4</th>\n",
       "      <td>Alexis Ajinça</td>\n",
       "      <td>10.0</td>\n",
       "      <td>12.0</td>\n",
       "      <td>32.0</td>\n",
       "      <td>3.0</td>\n",
       "      <td>7.0</td>\n",
       "      <td>9.0</td>\n",
       "      <td>25.0</td>\n",
       "      <td>2.0</td>\n",
       "      <td>3.0</td>\n",
       "      <td>5.0</td>\n",
       "      <td>17.0</td>\n",
       "      <td>2.0</td>\n",
       "      <td>3.0</td>\n",
       "      <td>5.0</td>\n",
       "      <td>1.0</td>\n",
       "      <td>13.0</td>\n",
       "      <td>29.0</td>\n",
       "    </tr>\n",
       "  </tbody>\n",
       "</table>\n",
       "</div>"
      ],
      "text/plain": [
       "          Player     G     FG    FGA     3P    3PA     2P    2PA     FT  \\\n",
       "0    Jeff Adrien  23.0   23.0   54.0    0.0    0.0   23.0   54.0   11.0   \n",
       "1  Arron Afflalo  69.0  312.0  627.0  105.0  248.0  207.0  379.0  138.0   \n",
       "2   Maurice Ager   4.0    6.0   11.0    3.0    4.0    3.0    7.0    0.0   \n",
       "3  Alexis Ajinça  34.0   59.0  133.0   12.0   34.0   47.0   99.0   13.0   \n",
       "4  Alexis Ajinça  10.0   12.0   32.0    3.0    7.0    9.0   25.0    2.0   \n",
       "\n",
       "     FTA   ORB    TRB    AST   STL   BLK   TOV     PF    PTS  \n",
       "0   19.0  23.0   58.0   10.0   4.0   5.0   9.0   28.0   57.0  \n",
       "1  163.0  45.0  251.0  168.0  34.0  31.0  71.0  153.0  867.0  \n",
       "2    0.0   0.0    2.0    1.0   1.0   0.0   4.0    4.0   15.0  \n",
       "3   18.0  17.0   78.0   10.0  11.0  19.0  18.0   73.0  143.0  \n",
       "4    3.0   5.0   17.0    2.0   3.0   5.0   1.0   13.0   29.0  "
      ]
     },
     "execution_count": 8,
     "metadata": {},
     "output_type": "execute_result"
    }
   ],
   "source": [
    "#Loop through seasons of data and append them to a pandas dataframe for analysis. \n",
    "years = ['2011','2012','2013','2014','2015','2016']\n",
    "stats = ['Player','G','FG','FGA','3P','3PA','2P','2PA','FT','FTA','ORB','TRB','AST','STL','BLK','TOV','PF','PTS']\n",
    "all_basic_stats = pd.DataFrame({})\n",
    "for year in years: \n",
    "    temp = pd.read_csv(os.getcwd() + '/stats/basicstats_' + str(year)+'.csv').drop(['Unnamed: 0'],axis=1)\n",
    "    all_basic_stats = pd.concat([all_basic_stats,temp])\n",
    "#Keep the basic stats that we care about. \n",
    "all_basic_stats = all_basic_stats[stats]\n",
    "all_basic_stats.head()"
   ]
  },
  {
   "cell_type": "code",
   "execution_count": 9,
   "metadata": {},
   "outputs": [
    {
     "data": {
      "text/html": [
       "<div>\n",
       "<style scoped>\n",
       "    .dataframe tbody tr th:only-of-type {\n",
       "        vertical-align: middle;\n",
       "    }\n",
       "\n",
       "    .dataframe tbody tr th {\n",
       "        vertical-align: top;\n",
       "    }\n",
       "\n",
       "    .dataframe thead th {\n",
       "        text-align: right;\n",
       "    }\n",
       "</style>\n",
       "<table border=\"1\" class=\"dataframe\">\n",
       "  <thead>\n",
       "    <tr style=\"text-align: right;\">\n",
       "      <th></th>\n",
       "      <th>Player</th>\n",
       "      <th>G</th>\n",
       "      <th>FG</th>\n",
       "      <th>FGA</th>\n",
       "      <th>3P</th>\n",
       "      <th>3PA</th>\n",
       "      <th>2P</th>\n",
       "      <th>2PA</th>\n",
       "      <th>FT</th>\n",
       "      <th>FTA</th>\n",
       "      <th>ORB</th>\n",
       "      <th>TRB</th>\n",
       "      <th>AST</th>\n",
       "      <th>STL</th>\n",
       "      <th>BLK</th>\n",
       "      <th>TOV</th>\n",
       "      <th>PF</th>\n",
       "      <th>PTS</th>\n",
       "    </tr>\n",
       "  </thead>\n",
       "  <tbody>\n",
       "    <tr>\n",
       "      <th>0</th>\n",
       "      <td>A.J. Price</td>\n",
       "      <td>231.0</td>\n",
       "      <td>455.0</td>\n",
       "      <td>1227.0</td>\n",
       "      <td>173.0</td>\n",
       "      <td>573.0</td>\n",
       "      <td>282.0</td>\n",
       "      <td>654.0</td>\n",
       "      <td>163.0</td>\n",
       "      <td>228.0</td>\n",
       "      <td>62.0</td>\n",
       "      <td>321.0</td>\n",
       "      <td>507.0</td>\n",
       "      <td>97.0</td>\n",
       "      <td>6.0</td>\n",
       "      <td>184.0</td>\n",
       "      <td>199.0</td>\n",
       "      <td>1246.0</td>\n",
       "    </tr>\n",
       "    <tr>\n",
       "      <th>1</th>\n",
       "      <td>Aaron Brooks</td>\n",
       "      <td>519.0</td>\n",
       "      <td>1724.0</td>\n",
       "      <td>4254.0</td>\n",
       "      <td>619.0</td>\n",
       "      <td>1734.0</td>\n",
       "      <td>1105.0</td>\n",
       "      <td>2520.0</td>\n",
       "      <td>688.0</td>\n",
       "      <td>812.0</td>\n",
       "      <td>205.0</td>\n",
       "      <td>863.0</td>\n",
       "      <td>1601.0</td>\n",
       "      <td>316.0</td>\n",
       "      <td>77.0</td>\n",
       "      <td>805.0</td>\n",
       "      <td>1031.0</td>\n",
       "      <td>4755.0</td>\n",
       "    </tr>\n",
       "    <tr>\n",
       "      <th>2</th>\n",
       "      <td>Aaron Gordon</td>\n",
       "      <td>125.0</td>\n",
       "      <td>367.0</td>\n",
       "      <td>787.0</td>\n",
       "      <td>55.0</td>\n",
       "      <td>190.0</td>\n",
       "      <td>312.0</td>\n",
       "      <td>597.0</td>\n",
       "      <td>173.0</td>\n",
       "      <td>254.0</td>\n",
       "      <td>200.0</td>\n",
       "      <td>676.0</td>\n",
       "      <td>161.0</td>\n",
       "      <td>80.0</td>\n",
       "      <td>77.0</td>\n",
       "      <td>104.0</td>\n",
       "      <td>236.0</td>\n",
       "      <td>962.0</td>\n",
       "    </tr>\n",
       "    <tr>\n",
       "      <th>3</th>\n",
       "      <td>Aaron Gray</td>\n",
       "      <td>206.0</td>\n",
       "      <td>241.0</td>\n",
       "      <td>472.0</td>\n",
       "      <td>0.0</td>\n",
       "      <td>2.0</td>\n",
       "      <td>241.0</td>\n",
       "      <td>470.0</td>\n",
       "      <td>87.0</td>\n",
       "      <td>165.0</td>\n",
       "      <td>274.0</td>\n",
       "      <td>807.0</td>\n",
       "      <td>120.0</td>\n",
       "      <td>60.0</td>\n",
       "      <td>50.0</td>\n",
       "      <td>181.0</td>\n",
       "      <td>436.0</td>\n",
       "      <td>569.0</td>\n",
       "    </tr>\n",
       "    <tr>\n",
       "      <th>4</th>\n",
       "      <td>Aaron Harrison</td>\n",
       "      <td>21.0</td>\n",
       "      <td>5.0</td>\n",
       "      <td>19.0</td>\n",
       "      <td>3.0</td>\n",
       "      <td>10.0</td>\n",
       "      <td>2.0</td>\n",
       "      <td>9.0</td>\n",
       "      <td>5.0</td>\n",
       "      <td>12.0</td>\n",
       "      <td>4.0</td>\n",
       "      <td>15.0</td>\n",
       "      <td>2.0</td>\n",
       "      <td>6.0</td>\n",
       "      <td>0.0</td>\n",
       "      <td>4.0</td>\n",
       "      <td>10.0</td>\n",
       "      <td>18.0</td>\n",
       "    </tr>\n",
       "  </tbody>\n",
       "</table>\n",
       "</div>"
      ],
      "text/plain": [
       "           Player      G      FG     FGA     3P     3PA      2P     2PA  \\\n",
       "0      A.J. Price  231.0   455.0  1227.0  173.0   573.0   282.0   654.0   \n",
       "1    Aaron Brooks  519.0  1724.0  4254.0  619.0  1734.0  1105.0  2520.0   \n",
       "2    Aaron Gordon  125.0   367.0   787.0   55.0   190.0   312.0   597.0   \n",
       "3      Aaron Gray  206.0   241.0   472.0    0.0     2.0   241.0   470.0   \n",
       "4  Aaron Harrison   21.0     5.0    19.0    3.0    10.0     2.0     9.0   \n",
       "\n",
       "      FT    FTA    ORB    TRB     AST    STL   BLK    TOV      PF     PTS  \n",
       "0  163.0  228.0   62.0  321.0   507.0   97.0   6.0  184.0   199.0  1246.0  \n",
       "1  688.0  812.0  205.0  863.0  1601.0  316.0  77.0  805.0  1031.0  4755.0  \n",
       "2  173.0  254.0  200.0  676.0   161.0   80.0  77.0  104.0   236.0   962.0  \n",
       "3   87.0  165.0  274.0  807.0   120.0   60.0  50.0  181.0   436.0   569.0  \n",
       "4    5.0   12.0    4.0   15.0     2.0    6.0   0.0    4.0    10.0    18.0  "
      ]
     },
     "execution_count": 9,
     "metadata": {},
     "output_type": "execute_result"
    }
   ],
   "source": [
    "#Group players by planername since we have data scattered across multiple seasons. \n",
    "all_basic_stats_tot = all_basic_stats.groupby(['Player']).sum().reset_index()\n",
    "all_basic_stats_tot.head()"
   ]
  },
  {
   "cell_type": "code",
   "execution_count": 10,
   "metadata": {},
   "outputs": [],
   "source": [
    "#Compute per game stats. \n",
    "all_basic_stats_tot['PPG'] = all_basic_stats_tot['PTS'] / all_basic_stats_tot['G']\n",
    "all_basic_stats_tot['APG'] = all_basic_stats_tot['AST'] / all_basic_stats_tot['G']\n",
    "all_basic_stats_tot['SPG'] = all_basic_stats_tot['STL'] / all_basic_stats_tot['G']\n",
    "all_basic_stats_tot['BPG'] = all_basic_stats_tot['BLK'] / all_basic_stats_tot['G']\n",
    "all_basic_stats_tot['TPG'] = all_basic_stats_tot['TOV'] / all_basic_stats_tot['G']\n",
    "\n",
    "all_basic_stats_tot['FG%'] = all_basic_stats_tot['FG'] / all_basic_stats_tot['FGA']\n",
    "all_basic_stats_tot['3P%'] = all_basic_stats_tot['3P'] / all_basic_stats_tot['3PA']\n",
    "all_basic_stats_tot['EFG'] = (all_basic_stats_tot['FG'] + 0.5*all_basic_stats_tot['3P']) / all_basic_stats_tot['FGA']"
   ]
  },
  {
   "cell_type": "code",
   "execution_count": 11,
   "metadata": {},
   "outputs": [
    {
     "data": {
      "text/html": [
       "<div>\n",
       "<style scoped>\n",
       "    .dataframe tbody tr th:only-of-type {\n",
       "        vertical-align: middle;\n",
       "    }\n",
       "\n",
       "    .dataframe tbody tr th {\n",
       "        vertical-align: top;\n",
       "    }\n",
       "\n",
       "    .dataframe thead th {\n",
       "        text-align: right;\n",
       "    }\n",
       "</style>\n",
       "<table border=\"1\" class=\"dataframe\">\n",
       "  <thead>\n",
       "    <tr style=\"text-align: right;\">\n",
       "      <th></th>\n",
       "      <th>Name</th>\n",
       "      <th>RAPM_Coefficient</th>\n",
       "      <th>Salary</th>\n",
       "      <th>Scaled_RAPM_Coefficient</th>\n",
       "      <th>Scaled_Salary</th>\n",
       "      <th>Value</th>\n",
       "    </tr>\n",
       "  </thead>\n",
       "  <tbody>\n",
       "    <tr>\n",
       "      <th>0</th>\n",
       "      <td>Jae Crowder</td>\n",
       "      <td>1.416322</td>\n",
       "      <td>13651084.5</td>\n",
       "      <td>1.871586</td>\n",
       "      <td>1.084917</td>\n",
       "      <td>1.725096</td>\n",
       "    </tr>\n",
       "    <tr>\n",
       "      <th>1</th>\n",
       "      <td>Kyle Korver</td>\n",
       "      <td>1.735350</td>\n",
       "      <td>33760563.0</td>\n",
       "      <td>1.969036</td>\n",
       "      <td>1.211124</td>\n",
       "      <td>1.625793</td>\n",
       "    </tr>\n",
       "    <tr>\n",
       "      <th>2</th>\n",
       "      <td>Kelly Olynyk</td>\n",
       "      <td>0.999571</td>\n",
       "      <td>12454560.0</td>\n",
       "      <td>1.744285</td>\n",
       "      <td>1.077408</td>\n",
       "      <td>1.618965</td>\n",
       "    </tr>\n",
       "    <tr>\n",
       "      <th>3</th>\n",
       "      <td>Matthew Dellavedova</td>\n",
       "      <td>0.733922</td>\n",
       "      <td>4907876.0</td>\n",
       "      <td>1.663140</td>\n",
       "      <td>1.030045</td>\n",
       "      <td>1.614629</td>\n",
       "    </tr>\n",
       "    <tr>\n",
       "      <th>4</th>\n",
       "      <td>Nick Collison</td>\n",
       "      <td>1.291101</td>\n",
       "      <td>27706336.0</td>\n",
       "      <td>1.833336</td>\n",
       "      <td>1.173127</td>\n",
       "      <td>1.562777</td>\n",
       "    </tr>\n",
       "  </tbody>\n",
       "</table>\n",
       "</div>"
      ],
      "text/plain": [
       "                  Name  RAPM_Coefficient      Salary  Scaled_RAPM_Coefficient  \\\n",
       "0          Jae Crowder          1.416322  13651084.5                 1.871586   \n",
       "1          Kyle Korver          1.735350  33760563.0                 1.969036   \n",
       "2         Kelly Olynyk          0.999571  12454560.0                 1.744285   \n",
       "3  Matthew Dellavedova          0.733922   4907876.0                 1.663140   \n",
       "4        Nick Collison          1.291101  27706336.0                 1.833336   \n",
       "\n",
       "   Scaled_Salary     Value  \n",
       "0       1.084917  1.725096  \n",
       "1       1.211124  1.625793  \n",
       "2       1.077408  1.618965  \n",
       "3       1.030045  1.614629  \n",
       "4       1.173127  1.562777  "
      ]
     },
     "execution_count": 11,
     "metadata": {},
     "output_type": "execute_result"
    }
   ],
   "source": [
    "df.head()"
   ]
  },
  {
   "cell_type": "code",
   "execution_count": 12,
   "metadata": {},
   "outputs": [
    {
     "data": {
      "text/html": [
       "<div>\n",
       "<style scoped>\n",
       "    .dataframe tbody tr th:only-of-type {\n",
       "        vertical-align: middle;\n",
       "    }\n",
       "\n",
       "    .dataframe tbody tr th {\n",
       "        vertical-align: top;\n",
       "    }\n",
       "\n",
       "    .dataframe thead th {\n",
       "        text-align: right;\n",
       "    }\n",
       "</style>\n",
       "<table border=\"1\" class=\"dataframe\">\n",
       "  <thead>\n",
       "    <tr style=\"text-align: right;\">\n",
       "      <th></th>\n",
       "      <th>Name</th>\n",
       "      <th>RAPM_Coefficient</th>\n",
       "      <th>Salary</th>\n",
       "      <th>Scaled_RAPM_Coefficient</th>\n",
       "      <th>Scaled_Salary</th>\n",
       "      <th>Value</th>\n",
       "      <th>Player</th>\n",
       "      <th>G</th>\n",
       "      <th>FG</th>\n",
       "      <th>FGA</th>\n",
       "      <th>...</th>\n",
       "      <th>PF</th>\n",
       "      <th>PTS</th>\n",
       "      <th>PPG</th>\n",
       "      <th>APG</th>\n",
       "      <th>SPG</th>\n",
       "      <th>BPG</th>\n",
       "      <th>TPG</th>\n",
       "      <th>FG%</th>\n",
       "      <th>3P%</th>\n",
       "      <th>EFG</th>\n",
       "    </tr>\n",
       "  </thead>\n",
       "  <tbody>\n",
       "    <tr>\n",
       "      <th>0</th>\n",
       "      <td>Jae Crowder</td>\n",
       "      <td>1.416322</td>\n",
       "      <td>13651084.5</td>\n",
       "      <td>1.871586</td>\n",
       "      <td>1.084917</td>\n",
       "      <td>1.725096</td>\n",
       "      <td>Jae Crowder</td>\n",
       "      <td>393.0</td>\n",
       "      <td>1089.0</td>\n",
       "      <td>2566.0</td>\n",
       "      <td>...</td>\n",
       "      <td>700.0</td>\n",
       "      <td>3042.0</td>\n",
       "      <td>7.740458</td>\n",
       "      <td>1.213740</td>\n",
       "      <td>0.997455</td>\n",
       "      <td>0.312977</td>\n",
       "      <td>0.689567</td>\n",
       "      <td>0.424396</td>\n",
       "      <td>0.318182</td>\n",
       "      <td>0.493959</td>\n",
       "    </tr>\n",
       "    <tr>\n",
       "      <th>1</th>\n",
       "      <td>Kyle Korver</td>\n",
       "      <td>1.735350</td>\n",
       "      <td>33760563.0</td>\n",
       "      <td>1.969036</td>\n",
       "      <td>1.211124</td>\n",
       "      <td>1.625793</td>\n",
       "      <td>Kyle Korver</td>\n",
       "      <td>447.0</td>\n",
       "      <td>1546.0</td>\n",
       "      <td>3395.0</td>\n",
       "      <td>...</td>\n",
       "      <td>884.0</td>\n",
       "      <td>4520.0</td>\n",
       "      <td>10.111857</td>\n",
       "      <td>2.125280</td>\n",
       "      <td>0.722595</td>\n",
       "      <td>0.387025</td>\n",
       "      <td>1.096197</td>\n",
       "      <td>0.455376</td>\n",
       "      <td>0.448011</td>\n",
       "      <td>0.601325</td>\n",
       "    </tr>\n",
       "    <tr>\n",
       "      <th>2</th>\n",
       "      <td>Kelly Olynyk</td>\n",
       "      <td>0.999571</td>\n",
       "      <td>12454560.0</td>\n",
       "      <td>1.744285</td>\n",
       "      <td>1.077408</td>\n",
       "      <td>1.618965</td>\n",
       "      <td>Kelly Olynyk</td>\n",
       "      <td>203.0</td>\n",
       "      <td>738.0</td>\n",
       "      <td>1586.0</td>\n",
       "      <td>...</td>\n",
       "      <td>603.0</td>\n",
       "      <td>1950.0</td>\n",
       "      <td>9.605911</td>\n",
       "      <td>1.591133</td>\n",
       "      <td>0.743842</td>\n",
       "      <td>0.487685</td>\n",
       "      <td>1.369458</td>\n",
       "      <td>0.465322</td>\n",
       "      <td>0.372745</td>\n",
       "      <td>0.523960</td>\n",
       "    </tr>\n",
       "    <tr>\n",
       "      <th>3</th>\n",
       "      <td>Matthew Dellavedova</td>\n",
       "      <td>0.733922</td>\n",
       "      <td>4907876.0</td>\n",
       "      <td>1.663140</td>\n",
       "      <td>1.030045</td>\n",
       "      <td>1.614629</td>\n",
       "      <td>Matthew Dellavedova</td>\n",
       "      <td>215.0</td>\n",
       "      <td>440.0</td>\n",
       "      <td>1114.0</td>\n",
       "      <td>...</td>\n",
       "      <td>451.0</td>\n",
       "      <td>1227.0</td>\n",
       "      <td>5.706977</td>\n",
       "      <td>3.386047</td>\n",
       "      <td>0.469767</td>\n",
       "      <td>0.074419</td>\n",
       "      <td>1.102326</td>\n",
       "      <td>0.394973</td>\n",
       "      <td>0.397504</td>\n",
       "      <td>0.495063</td>\n",
       "    </tr>\n",
       "    <tr>\n",
       "      <th>4</th>\n",
       "      <td>Nick Collison</td>\n",
       "      <td>1.291101</td>\n",
       "      <td>27706336.0</td>\n",
       "      <td>1.833336</td>\n",
       "      <td>1.173127</td>\n",
       "      <td>1.562777</td>\n",
       "      <td>Nick Collison</td>\n",
       "      <td>421.0</td>\n",
       "      <td>723.0</td>\n",
       "      <td>1342.0</td>\n",
       "      <td>...</td>\n",
       "      <td>1010.0</td>\n",
       "      <td>1759.0</td>\n",
       "      <td>4.178147</td>\n",
       "      <td>1.230404</td>\n",
       "      <td>0.489311</td>\n",
       "      <td>0.375297</td>\n",
       "      <td>0.833729</td>\n",
       "      <td>0.538748</td>\n",
       "      <td>0.238095</td>\n",
       "      <td>0.546200</td>\n",
       "    </tr>\n",
       "  </tbody>\n",
       "</table>\n",
       "<p>5 rows × 32 columns</p>\n",
       "</div>"
      ],
      "text/plain": [
       "                  Name  RAPM_Coefficient      Salary  Scaled_RAPM_Coefficient  \\\n",
       "0          Jae Crowder          1.416322  13651084.5                 1.871586   \n",
       "1          Kyle Korver          1.735350  33760563.0                 1.969036   \n",
       "2         Kelly Olynyk          0.999571  12454560.0                 1.744285   \n",
       "3  Matthew Dellavedova          0.733922   4907876.0                 1.663140   \n",
       "4        Nick Collison          1.291101  27706336.0                 1.833336   \n",
       "\n",
       "   Scaled_Salary     Value               Player      G      FG     FGA  ...  \\\n",
       "0       1.084917  1.725096          Jae Crowder  393.0  1089.0  2566.0  ...   \n",
       "1       1.211124  1.625793          Kyle Korver  447.0  1546.0  3395.0  ...   \n",
       "2       1.077408  1.618965         Kelly Olynyk  203.0   738.0  1586.0  ...   \n",
       "3       1.030045  1.614629  Matthew Dellavedova  215.0   440.0  1114.0  ...   \n",
       "4       1.173127  1.562777        Nick Collison  421.0   723.0  1342.0  ...   \n",
       "\n",
       "       PF     PTS        PPG       APG       SPG       BPG       TPG  \\\n",
       "0   700.0  3042.0   7.740458  1.213740  0.997455  0.312977  0.689567   \n",
       "1   884.0  4520.0  10.111857  2.125280  0.722595  0.387025  1.096197   \n",
       "2   603.0  1950.0   9.605911  1.591133  0.743842  0.487685  1.369458   \n",
       "3   451.0  1227.0   5.706977  3.386047  0.469767  0.074419  1.102326   \n",
       "4  1010.0  1759.0   4.178147  1.230404  0.489311  0.375297  0.833729   \n",
       "\n",
       "        FG%       3P%       EFG  \n",
       "0  0.424396  0.318182  0.493959  \n",
       "1  0.455376  0.448011  0.601325  \n",
       "2  0.465322  0.372745  0.523960  \n",
       "3  0.394973  0.397504  0.495063  \n",
       "4  0.538748  0.238095  0.546200  \n",
       "\n",
       "[5 rows x 32 columns]"
      ]
     },
     "execution_count": 12,
     "metadata": {},
     "output_type": "execute_result"
    }
   ],
   "source": [
    "#Perform a merge with some basic stats.\n",
    "df = df.merge(all_basic_stats_tot,left_on='Name',right_on='Player',how='inner')\n",
    "df.head()"
   ]
  },
  {
   "cell_type": "markdown",
   "metadata": {},
   "source": [
    "## Basic stats are meant to measure the effectiveness of a player at essential aspects of the game. We should expect to see some agreement in a statistic like effective field goal percentage since efficient players typically maximize their team's offensive possessions. We would expect this stat to be higher for players that the model calculated to be undervalued than those who are undervalued. \n",
    "\n",
    "## Note that effective field goal goal % does not necessarily ALWAYS correlate with outscoring the opposition perfectly. It is perfectly possible for a player to be very efficient on the offensive end but be unable to defend his opponent. It is also possible for the player to be unable to shoot enough shots for their high scoring efficiency to effect the outcome of the game, likely due to some other inefficiency.  "
   ]
  },
  {
   "cell_type": "code",
   "execution_count": 13,
   "metadata": {},
   "outputs": [
    {
     "data": {
      "text/plain": [
       "0.526233570467706"
      ]
     },
     "execution_count": 13,
     "metadata": {},
     "output_type": "execute_result"
    }
   ],
   "source": [
    "q = df.Scaled_RAPM_Coefficient.quantile(0.95)\n",
    "high_value = df[df['Scaled_RAPM_Coefficient'] > q]\n",
    "efh_high = high_value.EFG.mean()\n",
    "efh_high"
   ]
  },
  {
   "cell_type": "code",
   "execution_count": 14,
   "metadata": {},
   "outputs": [
    {
     "data": {
      "text/plain": [
       "0.4925048962945576"
      ]
     },
     "execution_count": 14,
     "metadata": {},
     "output_type": "execute_result"
    }
   ],
   "source": [
    "q = df.Scaled_RAPM_Coefficient.quantile(0.05)\n",
    "low_value = df[df['Scaled_RAPM_Coefficient'] <q]\n",
    "efg_low = low_value['EFG'].mean()\n",
    "efg_low"
   ]
  },
  {
   "cell_type": "code",
   "execution_count": 15,
   "metadata": {},
   "outputs": [
    {
     "data": {
      "text/plain": [
       "0.0008932458252670596"
      ]
     },
     "execution_count": 15,
     "metadata": {},
     "output_type": "execute_result"
    }
   ],
   "source": [
    "low_value['EFG'].var()"
   ]
  },
  {
   "cell_type": "code",
   "execution_count": 16,
   "metadata": {},
   "outputs": [
    {
     "data": {
      "text/plain": [
       "0.0011923641035775524"
      ]
     },
     "execution_count": 16,
     "metadata": {},
     "output_type": "execute_result"
    }
   ],
   "source": [
    "high_value['EFG'].var()"
   ]
  },
  {
   "cell_type": "markdown",
   "metadata": {},
   "source": [
    "## The mean's of the two groups certainly look different, we should perform an independent 2-sample t-test. The-test is used to quantify whether their is a statistical difference in the mean of 2 independently sampled groups or not. The test returns a p-value, which is the probability that the 2 samples came from the same distribution. If smaller than some prespecified threshold, (e.g., 0.01), then we can reject the hypothesis that they come from the same distribution and conclude that their is a statistical difference between the two groups. \n",
    "\n",
    "A t-test can only be valid if the following 4 assumptions are met. \n",
    "\n",
    "1. Independence: The samples should have been sampled independent of one another. These samples ultimately orginated by specifiying an aribitrary set of years, so they were effectively randomly sampled. \n",
    "2. Homogeneity of variance: Both samples have approximately the same variance. \n",
    "3. Sample size: Both groups have an equal number of samples. "
   ]
  },
  {
   "cell_type": "code",
   "execution_count": 17,
   "metadata": {},
   "outputs": [
    {
     "data": {
      "text/plain": [
       "Ttest_indResult(statistic=4.36934914243463, pvalue=4.364813351990636e-05)"
      ]
     },
     "execution_count": 17,
     "metadata": {},
     "output_type": "execute_result"
    }
   ],
   "source": [
    "from scipy import stats\n",
    "stats.ttest_ind(high_value.EFG.tolist(), low_value.EFG.tolist())"
   ]
  },
  {
   "cell_type": "markdown",
   "metadata": {},
   "source": [
    "## The p-value is indeed <0.01 and we can conclude that their is a statistical difference between the two groups. It looks like we are on the right track with our RAPM statistic as we have concluded that players with higher RAPM score more efficiently than players with lower RAPM. Does this hold for players on the lower-end of the salary range? Advanced stats are not needed to conclude that LeBron James can help a championship-contending team, but what about these \"role-players\"? Which players would be good compliments to LeBron? "
   ]
  },
  {
   "cell_type": "code",
   "execution_count": 18,
   "metadata": {},
   "outputs": [],
   "source": [
    "#Let's compare players with high RAPM scores to low RAPM scores, and also who are on the lower-end of the pay scale. \n",
    "group_a = df[(df['Scaled_Salary'] < 1.4) & (df['Scaled_RAPM_Coefficient'] > 1.7)]\n",
    "group_b = df[(df['Scaled_Salary'] < 1.4) & (df['Scaled_RAPM_Coefficient'] < 1.3)]"
   ]
  },
  {
   "cell_type": "code",
   "execution_count": 19,
   "metadata": {},
   "outputs": [
    {
     "data": {
      "text/plain": [
       "0.5359894751770029"
      ]
     },
     "execution_count": 19,
     "metadata": {},
     "output_type": "execute_result"
    }
   ],
   "source": [
    "group_a['EFG'].mean()"
   ]
  },
  {
   "cell_type": "code",
   "execution_count": 20,
   "metadata": {},
   "outputs": [
    {
     "data": {
      "text/plain": [
       "0.4852697609034098"
      ]
     },
     "execution_count": 20,
     "metadata": {},
     "output_type": "execute_result"
    }
   ],
   "source": [
    "group_b['EFG'].mean()"
   ]
  },
  {
   "cell_type": "code",
   "execution_count": 21,
   "metadata": {},
   "outputs": [
    {
     "data": {
      "text/plain": [
       "0.0011218245445817393"
      ]
     },
     "execution_count": 21,
     "metadata": {},
     "output_type": "execute_result"
    }
   ],
   "source": [
    "group_a['EFG'].var()"
   ]
  },
  {
   "cell_type": "code",
   "execution_count": 22,
   "metadata": {},
   "outputs": [
    {
     "data": {
      "text/plain": [
       "0.0009746478067934798"
      ]
     },
     "execution_count": 22,
     "metadata": {},
     "output_type": "execute_result"
    }
   ],
   "source": [
    "group_b['EFG'].var()"
   ]
  },
  {
   "cell_type": "code",
   "execution_count": 23,
   "metadata": {},
   "outputs": [
    {
     "data": {
      "text/plain": [
       "(15, 32)"
      ]
     },
     "execution_count": 23,
     "metadata": {},
     "output_type": "execute_result"
    }
   ],
   "source": [
    "group_a.shape"
   ]
  },
  {
   "cell_type": "code",
   "execution_count": 24,
   "metadata": {},
   "outputs": [
    {
     "data": {
      "text/plain": [
       "(53, 32)"
      ]
     },
     "execution_count": 24,
     "metadata": {},
     "output_type": "execute_result"
    }
   ],
   "source": [
    "group_b.shape"
   ]
  },
  {
   "cell_type": "code",
   "execution_count": 25,
   "metadata": {},
   "outputs": [
    {
     "data": {
      "text/plain": [
       "Ttest_indResult(statistic=5.254366665801657, pvalue=3.1148474042061803e-05)"
      ]
     },
     "execution_count": 25,
     "metadata": {},
     "output_type": "execute_result"
    }
   ],
   "source": [
    "stats.ttest_ind(group_a.EFG.tolist(), group_b.EFG.tolist(),equal_var=False)"
   ]
  },
  {
   "cell_type": "markdown",
   "metadata": {},
   "source": []
  },
  {
   "cell_type": "code",
   "execution_count": null,
   "metadata": {},
   "outputs": [],
   "source": []
  }
 ],
 "metadata": {
  "kernelspec": {
   "display_name": "Python 3",
   "language": "python",
   "name": "python3"
  },
  "language_info": {
   "codemirror_mode": {
    "name": "ipython",
    "version": 3
   },
   "file_extension": ".py",
   "mimetype": "text/x-python",
   "name": "python",
   "nbconvert_exporter": "python",
   "pygments_lexer": "ipython3",
   "version": "3.7.7"
  }
 },
 "nbformat": 4,
 "nbformat_minor": 4
}
