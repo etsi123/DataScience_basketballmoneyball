{
 "cells": [
  {
   "cell_type": "code",
   "execution_count": 1,
   "metadata": {},
   "outputs": [
    {
     "name": "stderr",
     "output_type": "stream",
     "text": [
      "/Users/evantsiklidis/opt/anaconda3/lib/python3.8/site-packages/requests/__init__.py:89: RequestsDependencyWarning: urllib3 (1.26.11) or chardet (3.0.4) doesn't match a supported version!\n",
      "  warnings.warn(\"urllib3 ({}) or chardet ({}) doesn't match a supported \"\n"
     ]
    }
   ],
   "source": [
    "import pandas as pd\n",
    "import os\n",
    "import matplotlib.pyplot as plt\n",
    "import requests\n",
    "pd.set_option('display.max_columns', 100)\n",
    "\n",
    "import requests\n",
    "import numpy as np\n",
    "from bs4 import BeautifulSoup"
   ]
  },
  {
   "cell_type": "code",
   "execution_count": 12,
   "metadata": {},
   "outputs": [
    {
     "ename": "IndexError",
     "evalue": "list index out of range",
     "output_type": "error",
     "traceback": [
      "\u001b[0;31m---------------------------------------------------------------------------\u001b[0m",
      "\u001b[0;31mIndexError\u001b[0m                                Traceback (most recent call last)",
      "\u001b[0;32m<ipython-input-12-2de76e4b11f5>\u001b[0m in \u001b[0;36m<module>\u001b[0;34m\u001b[0m\n\u001b[1;32m      6\u001b[0m     \u001b[0mdata\u001b[0m \u001b[0;34m=\u001b[0m \u001b[0mrequests\u001b[0m\u001b[0;34m.\u001b[0m\u001b[0mget\u001b[0m\u001b[0;34m(\u001b[0m\u001b[0murl\u001b[0m\u001b[0;34m,\u001b[0m\u001b[0mheaders\u001b[0m\u001b[0;34m=\u001b[0m\u001b[0mheaders\u001b[0m\u001b[0;34m)\u001b[0m\u001b[0;34m\u001b[0m\u001b[0;34m\u001b[0m\u001b[0m\n\u001b[1;32m      7\u001b[0m     \u001b[0msoup\u001b[0m \u001b[0;34m=\u001b[0m \u001b[0mBeautifulSoup\u001b[0m\u001b[0;34m(\u001b[0m\u001b[0mdata\u001b[0m\u001b[0;34m.\u001b[0m\u001b[0mcontent\u001b[0m\u001b[0;34m,\u001b[0m \u001b[0;34m'lxml'\u001b[0m\u001b[0;34m)\u001b[0m\u001b[0;34m\u001b[0m\u001b[0;34m\u001b[0m\u001b[0m\n\u001b[0;32m----> 8\u001b[0;31m     \u001b[0mheader\u001b[0m \u001b[0;34m=\u001b[0m \u001b[0;34m[\u001b[0m\u001b[0mth\u001b[0m\u001b[0;34m.\u001b[0m\u001b[0mgetText\u001b[0m\u001b[0;34m(\u001b[0m\u001b[0;34m)\u001b[0m \u001b[0;32mfor\u001b[0m \u001b[0mth\u001b[0m \u001b[0;32min\u001b[0m \u001b[0msoup\u001b[0m\u001b[0;34m.\u001b[0m\u001b[0mfindAll\u001b[0m\u001b[0;34m(\u001b[0m\u001b[0;34m'tr'\u001b[0m\u001b[0;34m,\u001b[0m \u001b[0mlimit\u001b[0m\u001b[0;34m=\u001b[0m\u001b[0;36m2\u001b[0m\u001b[0;34m)\u001b[0m\u001b[0;34m[\u001b[0m\u001b[0;36m0\u001b[0m\u001b[0;34m]\u001b[0m\u001b[0;34m.\u001b[0m\u001b[0mfindAll\u001b[0m\u001b[0;34m(\u001b[0m\u001b[0;34m'th'\u001b[0m\u001b[0;34m)\u001b[0m\u001b[0;34m]\u001b[0m\u001b[0;34m\u001b[0m\u001b[0;34m\u001b[0m\u001b[0m\n\u001b[0m\u001b[1;32m      9\u001b[0m \u001b[0;34m\u001b[0m\u001b[0m\n\u001b[1;32m     10\u001b[0m     \u001b[0mheader\u001b[0m \u001b[0;34m=\u001b[0m \u001b[0mheader\u001b[0m\u001b[0;34m[\u001b[0m\u001b[0;36m1\u001b[0m\u001b[0;34m:\u001b[0m\u001b[0;34m]\u001b[0m\u001b[0;34m\u001b[0m\u001b[0;34m\u001b[0m\u001b[0m\n",
      "\u001b[0;31mIndexError\u001b[0m: list index out of range"
     ]
    }
   ],
   "source": [
    "#What years are we interested in? \n",
    "years = ['2011','2012','2013','2014','2015','2016']\n",
    "for year in years: \n",
    "    url = 'https://www.basketball-reference.com/leagues/NBA_' + str(year) + '_totals.html'\n",
    "    headers = {'User-Agent': 'Mozilla/5.0'}\n",
    "    data = requests.get(url,headers=headers)\n",
    "    soup = BeautifulSoup(data.content, 'lxml')\n",
    "    header = [th.getText() for th in soup.findAll('tr', limit=2)[0].findAll('th')]\n",
    "\n",
    "    header = header[1:]\n",
    "    rows = soup.findAll('tr')[1:]\n",
    "    player_stats = [[td.getText() for td in rows[i].findAll('td')] for i in range(len(rows))]\n",
    "    stats = pd.DataFrame(player_stats,columns=header)\n",
    "    root_ = os.getcwd().replace('Notebooks','')\n",
    "    stats.to_csv(root_ + '/Data/' + 'basicstats_' + str(year) + '.csv')"
   ]
  },
  {
   "cell_type": "code",
   "execution_count": 11,
   "metadata": {},
   "outputs": [
    {
     "data": {
      "text/plain": [
       "[]"
      ]
     },
     "execution_count": 11,
     "metadata": {},
     "output_type": "execute_result"
    }
   ],
   "source": [
    "player_stats"
   ]
  },
  {
   "cell_type": "code",
   "execution_count": 8,
   "metadata": {},
   "outputs": [
    {
     "data": {
      "text/plain": [
       "<!DOCTYPE html>\n",
       "<html lang=\"en-US\">\n",
       "<head>\n",
       "<title>Just a moment...</title>\n",
       "<meta content=\"text/html; charset=utf-8\" http-equiv=\"Content-Type\"/>\n",
       "<meta content=\"IE=Edge\" http-equiv=\"X-UA-Compatible\"/>\n",
       "<meta content=\"noindex,nofollow\" name=\"robots\"/>\n",
       "<meta content=\"width=device-width,initial-scale=1\" name=\"viewport\"/>\n",
       "<link href=\"/cdn-cgi/styles/challenges.css\" rel=\"stylesheet\"/>\n",
       "</head>\n",
       "<body class=\"no-js\">\n",
       "<div class=\"main-wrapper\" role=\"main\">\n",
       "<div class=\"main-content\">\n",
       "<h1 class=\"zone-name-title h1\">\n",
       "<img class=\"heading-favicon\" onerror=\"this.onerror=null;this.parentNode.removeChild(this)\" src=\"/favicon.ico\"/>\n",
       "            www.basketball-reference.com\n",
       "        </h1>\n",
       "<h2 class=\"h2\" id=\"challenge-running\">\n",
       "            Checking if the site connection is secure\n",
       "        </h2>\n",
       "<noscript>\n",
       "<div id=\"challenge-error-title\">\n",
       "<div class=\"h2\">\n",
       "<span class=\"icon-wrapper\">\n",
       "<div class=\"heading-icon warning-icon\"></div>\n",
       "</span>\n",
       "<span id=\"challenge-error-text\">\n",
       "                        Enable JavaScript and cookies to continue\n",
       "                    </span>\n",
       "</div>\n",
       "</div>\n",
       "</noscript>\n",
       "<div id=\"trk_jschal_js\" style=\"display:none;background-image:url('/cdn-cgi/images/trace/managed/nojs/transparent.gif?ray=76590cce1ab18c3f')\"></div>\n",
       "<div class=\"core-msg spacer\" id=\"challenge-body-text\">\n",
       "            www.basketball-reference.com needs to review the security of your connection before proceeding.\n",
       "        </div>\n",
       "<form action=\"/leagues/NBA_2011_totals.html?__cf_chl_f_tk=albIkbMzln4vsXmYv4tlXMVFwnj5BpK_OPmp756suss-1667687595-0-gaNycGzNB2U\" enctype=\"application/x-www-form-urlencoded\" id=\"challenge-form\" method=\"POST\">\n",
       "<input name=\"md\" type=\"hidden\" value=\"yZieLATyZGiahID2peSpSmkj2FvbJayhjEl3tVUAB.Y-1667687595-0-AfdxnS6RwcEwlKPlO1BuLzkLmPSok1OXH4ql-tEndbzumaVObKnOt7401TEzWP1H32pxx-zd5ksVGoWysXzmaX6m4CYzb1-S2DPo8xpV_yTDzwDSHA4Os9N_4nG5b6SyOVj7q0DLxXJLpFd0tc1-JxgEjWO2G4eXcdR4nKci24g0t2pXHj6XFGS_oxsl2Fia1W0zSyyLAEdlK-KOt-av3L_llAcMmwvdKYHRrR3n-lS7OXxO5oS2PzuxCb3gOdVRJl8vc6r9yYrwceUFMk_H6gZ5iDiwcWTE4Yc51KZk7hQmkjn8FlaMNk05k5wLtZ2PJIMd-5v3nNfH2gDNqLix9ZhswS0jRANMahTTg8e2WrVRNB01ji7DUCxjkWWNS7-IRWAdQqapkWlGCGAUnpmk4dfG-3qQJ6oxUi7fcQmX6EGgtACsvjebYz6zqZpsHCuxffoRsf-wpCPWK3h3U79EwAmVIoYIdv3gcH3bpP8ocmJEvSzpxXKbaVsl0RWV4aqyasJgmE_2mo2B5QcKVvMGaokodhZPV9cu1SA1auSpJC8JbB9Cb7HudaZDE7ZDn3Qm42r2_GGozezEejJAOIB-EvRH3zinY7c6N24E45Eey5Tp0aT6QX6xdnT-WdOiAZUP2P3fculf7dvKVPQenHSkJjQ4RynWAxo8hOqF2QXZH1UQKSAGSahfjLs36Mw9rpNsRVtxbVPH7II33kbpBXb-kHSFUPs0N3YlKJY4M5qv5uQ4\"/>\n",
       "<input name=\"r\" type=\"hidden\" value=\"74u4oqELUTsvhALlCiQ7yKTX5FCE31hx0mvB83XXfCo-1667687595-0-AQrb6UvRQEaLmrImqZOhQSzHMp8flkDaD1yQkmHZEbZgmhRSjlc1g2iHLCm6jDZ8XgU0qHK9ymnPHhx3XoYpAGcJ/ERq7KlPgeDfSxvac0PHvDsEgj/qtRK39iq/ARKeQ9/TCWb4qA4Cw90ViNMqWP2+yxgWywKpzeXg57U/xSBvvGJ7ZJEqE0FczWqgMy9emjqmCdPoHktJpKAQZQ1pmRMiE/iPucF4lJZNGzaZhaCazLKEHktbTgzieSsz/ZmnMUGKFA/JnQLdo8QhsUW8qrQ8KVUBzzgbPOFRazQy0GUbxCJnsYKgeQ7woe7xVH2GLudFSZDTOPPMc9mxnMtum0EDDoFsA0TnCHvhZRhmBI8m5h3OxNmLgK+Ak4gH1FQkUN44UqsnDuamqR7I0q7bpNOWkYHMr6NMED0+VY1tYC/6ov6DR6t4D8kUAtXgfLOz8tNuT27vl8FrDhTzVcBMEThNPwLmEHv3vL1NT5mSyHaxs22VnLH5T9rmY1+w61JH4WRGMyAj+leOk9e8ItrKVPWlomc2u0QGw2lqx96ANEGXppxgd7vAAGhKtv3O24azG0JJcnYygKf+V5VexkkZ2UHWs/m3mSEV7SjbPx2q7gY2EOzJ9y7cII290v1aq2iTqOdS8H+sMOdiOB0LHc+stdg7Hmqx4/Jc6BpvL5kg2/DyP7+Bp7TjNfcMepyKxAtUfUbvgDIvwploz6mYZt6dHV5DMkb3o+DbJzOwJMiwmrsHBa14ialczF0hoQc9Xn0tPWXTx1XB0TbHVpHRR/7AepXvJYbkn9dLEl6Bwkpx9YkycpzVfEk+KR0Hopkpuu/5IK7l5KZafX06p/DDXDtAEfyHhC1lDTpdbefemjOr28SIckq1iczNXgyNLtrO+3GSRD2QVRp8LF9zJPZ5LVtgz7gqszv2Sr98XzESGKsPMFfJbVedIUVmnzG19cQ35FmnyIMWU3mxBfyvrIzonZsAYEmZDclUlsqr3YjWUONinXRuLqG/odfkJoeKFP4OYGfLO1eggRA2wr2n3S42bpytrIojnEat6Yo+k9cpHYuahqcdr6/ONuF2LOubaeMR0n5S7GISguMD7CgG5RB8FlbrwfMiDvZOTGumhB8p+CHAhZBjGx/45krwNCzLzWXFHYjlLKvFCSRwFXYKVMh6SImXlWa+tKwH80sm+VfOvwg6ihZI3WfBAv/rTtYZAgJB+g6Mn6VJgKWTLXNfNO+/JEp8B0ngmFVcUgUwuY/9P3BGSrH4wP6QMK7FRwRzajce5tGk2CQ+i3hbpur0SlNKy3f1AGRIkPbZ+KEjN3pvWN3rJsm8bbQh0dTG9IyQBA3MtqkgSTDnQ92rWeOAt5i9pwDKwCBsbHHIFCJZtzogl+fO43BxvvT1SC/aIRxrzS+ATpGYQyvNKfBfwUusN66UeEhZ820qTLmR2fnbUneQm8Q/6JflBZ63neengQcK3NK8pxQNPZacqE0aH1zNDxgPSN8HRdb3RkRTQ8r4NGBrb6sT/6iACUbmT265jKv1jsUi5o176DaBNHp3kcSPK1XgFCxFesZ2/sDf6JAadJciocrNPJClYZtSVoEqIHJOvlJ4nMNfvTWMcy6desqTzzAfvdbK32BUPB7XaVj8jmCT/+2/Hum8vICTKCfu/UUOk3/ZX0nCKdk2+/pHihLPuhzLou/Yjr0pevfII0VbXQ50nylgm5xOLkRnHz6hmHS13hf2+gsHYJ7vfMqrpP+bwwlaOib8gcBRWoNlfcoyg15Q/I44KcVBdrZ8xaesUJLu9nIhZrjr6bRAof5NAiAHzeQYwSywLW9QcJzzXG/aIOsxDhiU6BK6\"/>\n",
       "</form>\n",
       "</div>\n",
       "</div>\n",
       "<script>\n",
       "    (function(){\n",
       "        window._cf_chl_opt={\n",
       "            cvId: '2',\n",
       "            cType: 'managed',\n",
       "            cNounce: '54051',\n",
       "            cRay: '76590cce1ab18c3f',\n",
       "            cHash: '497bcfac8efed49',\n",
       "            cUPMDTk: \"\\/leagues\\/NBA_2011_totals.html?__cf_chl_tk=albIkbMzln4vsXmYv4tlXMVFwnj5BpK_OPmp756suss-1667687595-0-gaNycGzNB2U\",\n",
       "            cFPWv: 'g',\n",
       "            cTTimeMs: '1000',\n",
       "            cTplV: 4,\n",
       "            cTplB: 'cf',\n",
       "            cRq: {\n",
       "                ru: 'aHR0cHM6Ly93d3cuYmFza2V0YmFsbC1yZWZlcmVuY2UuY29tL2xlYWd1ZXMvTkJBXzIwMTFfdG90YWxzLmh0bWw=',\n",
       "                ra: 'TW96aWxsYS81LjA=',\n",
       "                rm: 'R0VU',\n",
       "                d: '9YgI0cvwLiTMxO+74L4sGWRCzRcg2SZDWWohEeRkBxmKUxpJUG5k7hj3cAXbV/0cvAfE0l3K9gG4TOovvvM0bya93+EOUI5uWJMDX7TFjnPHoKAO0bM613M8+386MfqXbN2feVLlRjjEoZKAPpuExf9FrKsiw5AuxbSkU7i542yIyOrbRob2P7DccdBb/lrTfA7AFu0z2lKM/H5XEi+2++nYTs/vnpeBnYqwQxI0Ui2FB8glZ7V8ZuYUwd9UYQsJd3a1eZT8p7r0gPCsOb0YafkIQ3diIG84+SjDoIoUBzpuQTujLsjYaKb5m7/868Pjw60GcNnJRhZMfCqc5dszneuNk2qXnYyKicM1QMX40pZ5PLCeb8cqsca+L8WjraqDqmj+2tIh2xl+WSCNIWieUFPw0G9mrcGK4d9otdPA4ELu4gGW2abKgTKwOYeaQLMfUgRvBIpPNdVgau5sovSCMKtZ/peTlrbyU+4XyQGejjZ3OE3bZy7mTKsc++paH8TWb0Sc7HlVwRluCVliohjgp2ZPZw6p1ujL7VV2g+Z2+BgEHKX/zwxRfu8RTrYUVWlnP1kBfXwlXsy3JltEUFGcihw/JUEzGNmxQeDtL4yzliNlF5py0lC9797WIXupCxHC0B4BO+hlw4onLaRKcr4jwBD6QFz5PSOOMvNIz2od1Qc=',\n",
       "                t: 'MTY2NzY4NzU5NS4yMzEwMDA=',\n",
       "                m: 'DUyqnLbwsMA7c9muOwocfgSt1E9qCCNTKtwW0iRqdmY=',\n",
       "                i1: 'hozZ/wgOK7JYsyRIw38HoA==',\n",
       "                i2: 'GpQ6NZlA+cjg634h/wm8VQ==',\n",
       "                zh: 'eibPeWnVMVo8mZKXv0fG5SpF219wxw9OxW3cSCy+go8=',\n",
       "                uh: 'I4rnSxByZePBR4/c13OPNUH8bTiyQ5hIaKWyTILN3y8=',\n",
       "                hh: 'H15ipy077WIXjSLNXxUiByrFBkY9wXyOlt7uBSkbXkY=',\n",
       "            }\n",
       "        };\n",
       "        var trkjs = document.createElement('img');\n",
       "        trkjs.setAttribute('src', '/cdn-cgi/images/trace/managed/js/transparent.gif?ray=76590cce1ab18c3f');\n",
       "        trkjs.setAttribute('style', 'display: none');\n",
       "        document.body.appendChild(trkjs);\n",
       "        var cpo = document.createElement('script');\n",
       "        cpo.src = '/cdn-cgi/challenge-platform/h/g/orchestrate/managed/v1?ray=76590cce1ab18c3f';\n",
       "        window._cf_chl_opt.cOgUHash = location.hash === '' && location.href.indexOf('#') !== -1 ? '#' : location.hash;\n",
       "        window._cf_chl_opt.cOgUQuery = location.search === '' && location.href.slice(0, -window._cf_chl_opt.cOgUHash.length).indexOf('?') !== -1 ? '?' : location.search;\n",
       "        if (window.history && window.history.replaceState) {\n",
       "            var ogU = location.pathname + window._cf_chl_opt.cOgUQuery + window._cf_chl_opt.cOgUHash;\n",
       "            history.replaceState(null, null, \"\\/leagues\\/NBA_2011_totals.html?__cf_chl_rt_tk=albIkbMzln4vsXmYv4tlXMVFwnj5BpK_OPmp756suss-1667687595-0-gaNycGzNB2U\" + window._cf_chl_opt.cOgUHash);\n",
       "            cpo.onload = function() {\n",
       "                history.replaceState(null, null, ogU);\n",
       "            };\n",
       "        }\n",
       "        document.getElementsByTagName('head')[0].appendChild(cpo);\n",
       "    }());\n",
       "</script>\n",
       "<div class=\"footer\" role=\"contentinfo\">\n",
       "<div class=\"footer-inner\">\n",
       "<div class=\"clearfix diagnostic-wrapper\">\n",
       "<div class=\"ray-id\">Ray ID: <code>76590cce1ab18c3f</code></div>\n",
       "</div>\n",
       "<div class=\"text-center\">Performance &amp; security by <a href=\"https://www.cloudflare.com?utm_source=challenge&amp;utm_campaign=m\" rel=\"noopener noreferrer\" target=\"_blank\">Cloudflare</a></div>\n",
       "</div>\n",
       "</div>\n",
       "</body>\n",
       "</html>"
      ]
     },
     "execution_count": 8,
     "metadata": {},
     "output_type": "execute_result"
    }
   ],
   "source": [
    "soup"
   ]
  },
  {
   "cell_type": "code",
   "execution_count": null,
   "metadata": {},
   "outputs": [],
   "source": []
  }
 ],
 "metadata": {
  "kernelspec": {
   "display_name": "Python 3",
   "language": "python",
   "name": "python3"
  },
  "language_info": {
   "codemirror_mode": {
    "name": "ipython",
    "version": 3
   },
   "file_extension": ".py",
   "mimetype": "text/x-python",
   "name": "python",
   "nbconvert_exporter": "python",
   "pygments_lexer": "ipython3",
   "version": "3.8.5"
  }
 },
 "nbformat": 4,
 "nbformat_minor": 4
}
