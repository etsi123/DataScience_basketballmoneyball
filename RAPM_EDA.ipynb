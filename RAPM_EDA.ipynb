{
 "cells": [
  {
   "cell_type": "markdown",
   "metadata": {},
   "source": [
    "## I have aggregated NBA play-by-play data for 6 seasons from nba.com and would like to analyze it. "
   ]
  },
  {
   "cell_type": "code",
   "execution_count": 3,
   "metadata": {},
   "outputs": [],
   "source": [
    "#import libraries\n",
    "import pandas as pd\n",
    "import numpy as np"
   ]
  },
  {
   "cell_type": "code",
   "execution_count": 4,
   "metadata": {},
   "outputs": [],
   "source": [
    "#Normalize column \n",
    "def scale_col(df,col): \n",
    "    \"\"\"\n",
    "    A function that takes a pandas dataframe and column as input and returns a scaled version of the column. \n",
    "    The column is rescaled to values between 1 and 2. \n",
    "    \"\"\"\n",
    "    df['Scaled_' + col] = (df[col]-df[col].min())/(df[col].max()-df[col].min()) + 1\n",
    "    return df"
   ]
  },
  {
   "cell_type": "code",
   "execution_count": 5,
   "metadata": {},
   "outputs": [
    {
     "data": {
      "text/html": [
       "<div>\n",
       "<style scoped>\n",
       "    .dataframe tbody tr th:only-of-type {\n",
       "        vertical-align: middle;\n",
       "    }\n",
       "\n",
       "    .dataframe tbody tr th {\n",
       "        vertical-align: top;\n",
       "    }\n",
       "\n",
       "    .dataframe thead th {\n",
       "        text-align: right;\n",
       "    }\n",
       "</style>\n",
       "<table border=\"1\" class=\"dataframe\">\n",
       "  <thead>\n",
       "    <tr style=\"text-align: right;\">\n",
       "      <th></th>\n",
       "      <th>Name</th>\n",
       "      <th>coeff</th>\n",
       "      <th>Salary</th>\n",
       "    </tr>\n",
       "  </thead>\n",
       "  <tbody>\n",
       "    <tr>\n",
       "      <th>0</th>\n",
       "      <td>X. Henry</td>\n",
       "      <td>-0.975378</td>\n",
       "      <td>8481333.0</td>\n",
       "    </tr>\n",
       "    <tr>\n",
       "      <th>1</th>\n",
       "      <td>E. Najera</td>\n",
       "      <td>-0.219172</td>\n",
       "      <td>8500000.0</td>\n",
       "    </tr>\n",
       "    <tr>\n",
       "      <th>2</th>\n",
       "      <td>J. Terry</td>\n",
       "      <td>1.946825</td>\n",
       "      <td>38453902.0</td>\n",
       "    </tr>\n",
       "    <tr>\n",
       "      <th>3</th>\n",
       "      <td>M. Ely</td>\n",
       "      <td>0.969023</td>\n",
       "      <td>3909764.0</td>\n",
       "    </tr>\n",
       "    <tr>\n",
       "      <th>4</th>\n",
       "      <td>S. Blake</td>\n",
       "      <td>0.898902</td>\n",
       "      <td>20247465.0</td>\n",
       "    </tr>\n",
       "  </tbody>\n",
       "</table>\n",
       "</div>"
      ],
      "text/plain": [
       "        Name     coeff      Salary\n",
       "0   X. Henry -0.975378   8481333.0\n",
       "1  E. Najera -0.219172   8500000.0\n",
       "2   J. Terry  1.946825  38453902.0\n",
       "3     M. Ely  0.969023   3909764.0\n",
       "4   S. Blake  0.898902  20247465.0"
      ]
     },
     "execution_count": 5,
     "metadata": {},
     "output_type": "execute_result"
    }
   ],
   "source": [
    "#Load in the dataframe\n",
    "df = pd.read_csv('RAPM_SAL_INFO.csv').drop(['Unnamed: 0'],axis=1)\n",
    "df.head()"
   ]
  },
  {
   "cell_type": "markdown",
   "metadata": {},
   "source": [
    "## We're interested in finding players who may have been undervalued by the market. To do this, I propose dividing the coeffiicients determined by the ridge regression model by the salary of each player... Players with large coefficients and small salaries are likely excellent role players on contending teams and would be good signinigs. "
   ]
  },
  {
   "cell_type": "code",
   "execution_count": 6,
   "metadata": {},
   "outputs": [
    {
     "name": "stderr",
     "output_type": "stream",
     "text": [
      "/Users/evan/opt/anaconda3/lib/python3.7/site-packages/ipykernel_launcher.py:7: SettingWithCopyWarning: \n",
      "A value is trying to be set on a copy of a slice from a DataFrame.\n",
      "Try using .loc[row_indexer,col_indexer] = value instead\n",
      "\n",
      "See the caveats in the documentation: https://pandas.pydata.org/pandas-docs/stable/user_guide/indexing.html#returning-a-view-versus-a-copy\n",
      "  import sys\n",
      "/Users/evan/opt/anaconda3/lib/python3.7/site-packages/ipykernel_launcher.py:4: SettingWithCopyWarning: \n",
      "A value is trying to be set on a copy of a slice from a DataFrame.\n",
      "Try using .loc[row_indexer,col_indexer] = value instead\n",
      "\n",
      "See the caveats in the documentation: https://pandas.pydata.org/pandas-docs/stable/user_guide/indexing.html#returning-a-view-versus-a-copy\n",
      "  after removing the cwd from sys.path.\n"
     ]
    },
    {
     "data": {
      "text/html": [
       "<div>\n",
       "<style scoped>\n",
       "    .dataframe tbody tr th:only-of-type {\n",
       "        vertical-align: middle;\n",
       "    }\n",
       "\n",
       "    .dataframe tbody tr th {\n",
       "        vertical-align: top;\n",
       "    }\n",
       "\n",
       "    .dataframe thead th {\n",
       "        text-align: right;\n",
       "    }\n",
       "</style>\n",
       "<table border=\"1\" class=\"dataframe\">\n",
       "  <thead>\n",
       "    <tr style=\"text-align: right;\">\n",
       "      <th></th>\n",
       "      <th>Name</th>\n",
       "      <th>coeff</th>\n",
       "      <th>Salary</th>\n",
       "      <th>Scaled_coeff</th>\n",
       "      <th>Scaled_Salary</th>\n",
       "      <th>Value</th>\n",
       "    </tr>\n",
       "  </thead>\n",
       "  <tbody>\n",
       "    <tr>\n",
       "      <th>0</th>\n",
       "      <td>K. Olynyk</td>\n",
       "      <td>5.211092</td>\n",
       "      <td>6227280.0</td>\n",
       "      <td>1.855853</td>\n",
       "      <td>1.038592</td>\n",
       "      <td>1.786893</td>\n",
       "    </tr>\n",
       "    <tr>\n",
       "      <th>1</th>\n",
       "      <td>J. Crowder</td>\n",
       "      <td>5.382377</td>\n",
       "      <td>9100723.0</td>\n",
       "      <td>1.884023</td>\n",
       "      <td>1.056621</td>\n",
       "      <td>1.783064</td>\n",
       "    </tr>\n",
       "    <tr>\n",
       "      <th>2</th>\n",
       "      <td>K. Korver</td>\n",
       "      <td>5.882424</td>\n",
       "      <td>33760563.0</td>\n",
       "      <td>1.966261</td>\n",
       "      <td>1.211342</td>\n",
       "      <td>1.623208</td>\n",
       "    </tr>\n",
       "    <tr>\n",
       "      <th>3</th>\n",
       "      <td>M. Dellavedova</td>\n",
       "      <td>3.216481</td>\n",
       "      <td>2453938.0</td>\n",
       "      <td>1.527817</td>\n",
       "      <td>1.014917</td>\n",
       "      <td>1.505361</td>\n",
       "    </tr>\n",
       "    <tr>\n",
       "      <th>4</th>\n",
       "      <td>M. Ginobili</td>\n",
       "      <td>6.087573</td>\n",
       "      <td>57383568.0</td>\n",
       "      <td>2.000000</td>\n",
       "      <td>1.359559</td>\n",
       "      <td>1.471066</td>\n",
       "    </tr>\n",
       "  </tbody>\n",
       "</table>\n",
       "</div>"
      ],
      "text/plain": [
       "             Name     coeff      Salary  Scaled_coeff  Scaled_Salary     Value\n",
       "0       K. Olynyk  5.211092   6227280.0      1.855853       1.038592  1.786893\n",
       "1      J. Crowder  5.382377   9100723.0      1.884023       1.056621  1.783064\n",
       "2       K. Korver  5.882424  33760563.0      1.966261       1.211342  1.623208\n",
       "3  M. Dellavedova  3.216481   2453938.0      1.527817       1.014917  1.505361\n",
       "4     M. Ginobili  6.087573  57383568.0      2.000000       1.359559  1.471066"
      ]
     },
     "execution_count": 6,
     "metadata": {},
     "output_type": "execute_result"
    }
   ],
   "source": [
    "pos_cont = df[df['coeff'] > 0]\n",
    "pos_cont = scale_col(pos_cont,'coeff')\n",
    "pos_cont = scale_col(pos_cont,'Salary')\n",
    "pos_cont['Value'] = pos_cont['Scaled_coeff'] / pos_cont['Scaled_Salary']\n",
    "pos_cont = pos_cont.sort_values(['Value'],ascending=False).reset_index(drop=True)\n",
    "pos_cont.head()"
   ]
  },
  {
   "cell_type": "code",
   "execution_count": null,
   "metadata": {},
   "outputs": [],
   "source": []
  },
  {
   "cell_type": "code",
   "execution_count": null,
   "metadata": {},
   "outputs": [],
   "source": []
  },
  {
   "cell_type": "code",
   "execution_count": null,
   "metadata": {},
   "outputs": [],
   "source": []
  },
  {
   "cell_type": "code",
   "execution_count": null,
   "metadata": {},
   "outputs": [],
   "source": []
  },
  {
   "cell_type": "code",
   "execution_count": null,
   "metadata": {},
   "outputs": [],
   "source": []
  },
  {
   "cell_type": "code",
   "execution_count": null,
   "metadata": {},
   "outputs": [],
   "source": []
  }
 ],
 "metadata": {
  "kernelspec": {
   "display_name": "Python 3",
   "language": "python",
   "name": "python3"
  },
  "language_info": {
   "codemirror_mode": {
    "name": "ipython",
    "version": 3
   },
   "file_extension": ".py",
   "mimetype": "text/x-python",
   "name": "python",
   "nbconvert_exporter": "python",
   "pygments_lexer": "ipython3",
   "version": "3.7.7"
  }
 },
 "nbformat": 4,
 "nbformat_minor": 4
}
